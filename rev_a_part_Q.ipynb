{
 "cells": [
  {
   "cell_type": "code",
   "execution_count": null,
   "metadata": {
    "collapsed": true
   },
   "outputs": [],
   "source": [
    "\"\"\"import myQueue as q\n",
    "givenQ = q.queue()\"\"\"\n",
    "\n",
    "#function block:\n",
    "\n",
    "def reverse_a_part(givenQ,k):\n",
    "\n",
    "    newQ = q.queue()\n",
    "    \n",
    "    x=0\n",
    "    temp=[]\n",
    "    for x in range(k):\n",
    "        temp.append(givenQ.dequeue())\n",
    "\n",
    "    temp.reverse()\n",
    "    \n",
    "    x=0\n",
    "    for x in range(len(givenQ.qu)+k):\n",
    "        if x < k:\n",
    "            newQ.enqueue(temp[x])\n",
    "        else:\n",
    "            newQ.enqueue(givenQ.dequeue())\n",
    "\n",
    "    del givenQ\n",
    "\n",
    "    return newQ.qu\n",
    "\n",
    "\n",
    "\"\"\"        \n",
    "while True:\n",
    "    print(''' \\n1. Enqueue\n",
    "                2. Dequeue\n",
    "                3. Exit  ''')\n",
    "    choice = int(input('enter the choice\\n'))\n",
    "\n",
    "    if choice == 1:\n",
    "        givenQ.enqueue(int(input('enter the no.\\n')))\n",
    "        print(givenQ.prnt())\n",
    "        \n",
    "    elif choice == 2:\n",
    "        givenQ.dequeue()\n",
    "        print(givenQ.prnt())\n",
    "\n",
    "    elif choice == 3:\n",
    "        break\n",
    "\n",
    "    else:\n",
    "        print('invalid choice\\n')\n",
    "        \n",
    "\n",
    "k = int(input('enter k\\n'))\n",
    "\n",
    "print('input list ',givenQ.qu)\n",
    "print('list after reversing ',k,' places is ',reverse_a_part(givenQ,k))\n",
    "\n",
    "\"\"\"\n"
   ]
  }
 ],
 "metadata": {
  "kernelspec": {
   "display_name": "Python 3",
   "language": "python",
   "name": "python3"
  },
  "language_info": {
   "codemirror_mode": {
    "name": "ipython",
    "version": 3
   },
   "file_extension": ".py",
   "mimetype": "text/x-python",
   "name": "python",
   "nbconvert_exporter": "python",
   "pygments_lexer": "ipython3",
   "version": "3.6.3"
  }
 },
 "nbformat": 4,
 "nbformat_minor": 2
}
