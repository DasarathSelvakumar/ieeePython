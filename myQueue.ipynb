{
 "cells": [
  {
   "cell_type": "code",
   "execution_count": null,
   "metadata": {
    "collapsed": true
   },
   "outputs": [],
   "source": [
    "class queue:\n",
    "    def __init__(self):\n",
    "        self.qu = []\n",
    "    def enqueue(self,item):\n",
    "        return self.qu.insert(0,item)\n",
    "    def dequeue(self):\n",
    "        return self.qu.pop()\n",
    "    def prnt(self):\n",
    "        return self.qu\n",
    "\n",
    "\n",
    "\n",
    "# menu driven En/De Queuer\n",
    "\"\"\"\n",
    "q = queue()\n",
    "while True:\n",
    "    print(''' \\n1. Enqueue\n",
    "                2. Dequeue\n",
    "                3. Exit  ''')\n",
    "    choice = int(input('enter the choice\\n'))\n",
    "\n",
    "    if choice == 1:\n",
    "        q.enqueue(int(input('enter the no.\\n')))\n",
    "        print(q.prnt())\n",
    "        \n",
    "    elif choice == 2:\n",
    "        q.dequeue()\n",
    "        print(q.prnt())\n",
    "\n",
    "    elif choice == 3:\n",
    "        break\n",
    "\n",
    "    else:\n",
    "        print('invalid choice\\n')\n",
    "\"\"\"\n",
    "\n"
   ]
  }
 ],
 "metadata": {
  "kernelspec": {
   "display_name": "Python 3",
   "language": "python",
   "name": "python3"
  },
  "language_info": {
   "codemirror_mode": {
    "name": "ipython",
    "version": 3
   },
   "file_extension": ".py",
   "mimetype": "text/x-python",
   "name": "python",
   "nbconvert_exporter": "python",
   "pygments_lexer": "ipython3",
   "version": "3.6.3"
  }
 },
 "nbformat": 4,
 "nbformat_minor": 2
}
