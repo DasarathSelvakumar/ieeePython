{
 "cells": [
  {
   "cell_type": "code",
   "execution_count": null,
   "metadata": {
    "collapsed": true
   },
   "outputs": [],
   "source": [
    "class stack:\n",
    "    def __init__(self):\n",
    "        self.stk = []\n",
    "    def push(self,item):\n",
    "        return self.stk.append(item)\n",
    "    def pop(self):\n",
    "        return self.stk.pop()\n",
    "    def prnt(self):\n",
    "        return self.stk\n",
    "\n",
    "    \n",
    "\"\"\"\n",
    "s = stack()\n",
    "while True:\n",
    "    print(''' \\n1. Push\n",
    "                2. Pop\n",
    "                3. Exit  ''')\n",
    "    choice = int(input('enter the choice\\n'))\n",
    "\n",
    "    if choice == 1:\n",
    "        s.push(int(input('enter the no.\\n')))\n",
    "        print(s.prnt())\n",
    "        \n",
    "    elif choice == 2:\n",
    "        s.pop()\n",
    "        print(s.prnt())\n",
    "\n",
    "    elif choice == 3:\n",
    "        break\n",
    "\n",
    "    else:\n",
    "        print('invalid choice\\n')\n",
    "\n",
    "exit()\n",
    "\n",
    "\"\"\"\n"
   ]
  }
 ],
 "metadata": {
  "kernelspec": {
   "display_name": "Python 3",
   "language": "python",
   "name": "python3"
  },
  "language_info": {
   "codemirror_mode": {
    "name": "ipython",
    "version": 3
   },
   "file_extension": ".py",
   "mimetype": "text/x-python",
   "name": "python",
   "nbconvert_exporter": "python",
   "pygments_lexer": "ipython3",
   "version": "3.6.3"
  }
 },
 "nbformat": 4,
 "nbformat_minor": 2
}
