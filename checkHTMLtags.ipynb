{
 "cells": [
  {
   "cell_type": "code",
   "execution_count": null,
   "metadata": {
    "collapsed": true
   },
   "outputs": [],
   "source": [
    "import re\n",
    "\n",
    "line=open('test.html','r')     # replace test with the required filename and its path\n",
    "\n",
    "\n",
    "rawMatch=re.findall(r\"<\\w+>|\\w+>|<\\w+|</\\w+>|</\\w+|/\\w+>\",line.read())\n",
    "\n",
    "match=[]\n",
    "for each in rawMatch:\n",
    "    match.append(each.strip('<>'))\n",
    "print('tags in the file->',rawMatch,'\\n')\n",
    "\n",
    "tag=[]\n",
    "for every in match:\n",
    "    tag.append(every.strip('</>'))\n",
    "\n",
    "for x in set(tag):\n",
    "    if tag.count(x)%2!=0:\n",
    "        if ('/'+x) not in match:\n",
    "            print(x+'-> tag not closed\\n')\n",
    "        elif ('/'+x) in match:\n",
    "            print(x+'-> tag not opened\\n')\n",
    "\n",
    "    if ('<'+x) in rawMatch or (x+'>') in rawMatch:\n",
    "        print(x+'-> opening tag improper-bracket missing\\n')\n",
    "    if ('</'+x) in rawMatch or ('/'+x+'>') in rawMatch:\n",
    "        print(x+'-> closing tag improper-bracket missing\\n')\n",
    "            \n",
    "line.close()\n",
    "\n",
    "\n"
   ]
  }
 ],
 "metadata": {
  "kernelspec": {
   "display_name": "Python 3",
   "language": "python",
   "name": "python3"
  },
  "language_info": {
   "codemirror_mode": {
    "name": "ipython",
    "version": 3
   },
   "file_extension": ".py",
   "mimetype": "text/x-python",
   "name": "python",
   "nbconvert_exporter": "python",
   "pygments_lexer": "ipython3",
   "version": "3.6.3"
  }
 },
 "nbformat": 4,
 "nbformat_minor": 2
}
